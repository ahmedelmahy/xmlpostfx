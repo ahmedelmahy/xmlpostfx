{
 "cells": [
  {
   "cell_type": "markdown",
   "metadata": {},
   "source": [
    "# Data Structures Project (XML Expression Evaluator)\n",
    "# Ahmed Elmahy, Nourhan Saeed \n",
    "## Problem\n",
    "The   program should be able to evaluates any expression with integer numbers and basic operators. The expressions are stored in XML format (see below) so the program should load the file and parse into suitable data structure first. Arithmetic Expressions The program should support arithmetic expressions with integer operands,  binary operators +, –, *, and /. The precedence rules are the standard ones from   arithmetic   (i.e.,   parenthesized   expressions   are   evaluated   first,   then multiplicative operators, and finally additive operators).\n"
   ]
  },
  {
   "cell_type": "markdown",
   "metadata": {},
   "source": [
    "# Objectives\n",
    "\n",
    "1. Familiarity in using XML to represent arithmetic expressions,\n",
    "2. Practicing recursion to evaluate arithmetic expressions, and\n",
    "3. Implementing expressions evaluator."
   ]
  },
  {
   "cell_type": "markdown",
   "metadata": {},
   "source": [
    "## Solution"
   ]
  },
  {
   "cell_type": "markdown",
   "metadata": {},
   "source": [
    "We first read xml using xml library in Python, we can either read an xml file using tree = ET.parse('file.xml')\n",
    " or read xml text. Here we read xml from text"
   ]
  },
  {
   "cell_type": "markdown",
   "metadata": {},
   "source": [
    "#### XML structure\n",
    "xml is a heirarchical data structure each tag has attributes and maybe children. HTML is an example of xml."
   ]
  },
  {
   "cell_type": "code",
   "execution_count": 164,
   "metadata": {
    "collapsed": false
   },
   "outputs": [],
   "source": [
    "# Read xml\n",
    "\n",
    "import xml.etree.ElementTree as ET  \n",
    "xmlData = \"\"\"<?xml version=\"1.0\" encoding=\"UTF-8\"?>\n",
    "<expr type=\"binary\">\n",
    "    <operator value=\"+\"/>\n",
    "<expr type=\"binary\">\n",
    "<operator value=\"*\"/>\n",
    "<expr type=\"atom\">\n",
    "<atom value=\"3\"/>\n",
    "</expr>\n",
    "<expr type=\"binary\"><operator value=\"+\"/>\n",
    "<expr type=\"atom\"><atom value=\"5\"/>\n",
    "</expr>\n",
    "<expr type=\"atom\">\n",
    "<atom value=\"4\"/>\n",
    "</expr>\n",
    "</expr>\n",
    "</expr>\n",
    "<expr type=\"binary\">\n",
    "<operator value=\"*\"/>\n",
    "<expr type=\"atom\">\n",
    "<atom value=\"9\"/>\n",
    "</expr>\n",
    "<expr type=\"atom\">\n",
    "<atom value=\"8\"/>\n",
    "</expr>\n",
    "</expr>\n",
    "</expr>\"\"\"\n",
    "\n",
    "# read xml from string\n",
    "root = ET.fromstring(xmlData)\n"
   ]
  },
  {
   "cell_type": "markdown",
   "metadata": {
    "collapsed": false
   },
   "source": [
    "Each operation contains operator like + and two operands \n",
    "In the implementation below we loop again to account for the situation when there are more than two operands for example + 2 3 4  will change to + 2 7  then to 9"
   ]
  },
  {
   "cell_type": "code",
   "execution_count": 165,
   "metadata": {
    "collapsed": true
   },
   "outputs": [],
   "source": [
    "def doMath(op, op1, op2):\n",
    "    if op == \"*\":\n",
    "        return op1 * op2\n",
    "    elif op == \"/\":\n",
    "        return op1 / op2\n",
    "    elif op == \"+\":\n",
    "        return op1 + op2\n",
    "    else:\n",
    "        return op1 - op2"
   ]
  },
  {
   "cell_type": "markdown",
   "metadata": {},
   "source": [
    "### Calculate Function\n",
    "calculate is a recursive function that takes an xml element, examines it with three situations:\n",
    "1. if element is an operator > it pushes it to the stack\n",
    "2. if element is an ator > it pushes it to stack and check it some operation on the final three items in the stack could be finished. this only happens if the stack ends with [... , operator, number, number] \n",
    "3. if element is an expression the function calls itself again"
   ]
  },
  {
   "cell_type": "markdown",
   "metadata": {},
   "source": [
    "Specifying verbose = True will print the items in stack while running"
   ]
  },
  {
   "cell_type": "code",
   "execution_count": null,
   "metadata": {
    "collapsed": true
   },
   "outputs": [],
   "source": []
  },
  {
   "cell_type": "code",
   "execution_count": 166,
   "metadata": {
    "collapsed": false
   },
   "outputs": [],
   "source": [
    "# instantiate empty stack as a list\n",
    "s = list()\n",
    "s = []\n",
    "\n",
    "def calculate(parent, verbose = False) :\n",
    "\n",
    "    for child in parent:\n",
    "        # if child is operator > append it to stack\n",
    "        if child.tag == 'operator':\n",
    "            s.append(child.attrib['value'])\n",
    "        # if child is atom > append it to stack\n",
    "        if child.tag == 'atom':\n",
    "            s.append(child.attrib['value'])\n",
    "            while(True):\n",
    "                if (len(s) > 2 and (type(s[-1]) == float or s[-1] in '1234567890') and\n",
    "                (type(s[-2]) == float or s[-2] in '1234567890') and s[-3] in '+-*/'):\n",
    "                    # transform string into float\n",
    "                    op1 = float(s[-1])\n",
    "                    op2 = float(s[-2])\n",
    "                    op = s[-3]\n",
    "                    if verbose == True: \n",
    "                        print(s)\n",
    "                        \n",
    "                        \n",
    "                    # pop last three items\n",
    "                    s.pop()\n",
    "                    s.pop()\n",
    "                    s.pop()\n",
    "                    \n",
    "                    if verbose == True:\n",
    "                        print(doMath(op,op1,op2))\n",
    "                    # append the value of the operation run on the last three values\n",
    "                    s.append(doMath(op,op1,op2))\n",
    "                else:\n",
    "                    break;\n",
    "            if verbose == True: print(s)\n",
    "        \n",
    "        # recurse if child is an expression\n",
    "        elif child.tag == 'expr':\n",
    "            calculate(child, verbose)\n",
    "            \n",
    "        # Examine if one number is left and return it as the solution for the expression\n",
    "        if (len(s) > 0 and str(s[0]) not in '+-*/'):\n",
    "            return s[0]\n",
    "    \n",
    "    "
   ]
  },
  {
   "cell_type": "markdown",
   "metadata": {},
   "source": [
    "# Run here"
   ]
  },
  {
   "cell_type": "code",
   "execution_count": 167,
   "metadata": {
    "collapsed": false
   },
   "outputs": [
    {
     "name": "stdout",
     "output_type": "stream",
     "text": [
      "['+', '*', '3']\n",
      "['+', '*', '3', '+', '5']\n",
      "['+', '*', '3', '+', '5', '4']\n",
      "9.0\n",
      "['+', '*', '3', 9.0]\n",
      "27.0\n",
      "['+', 27.0]\n",
      "['+', 27.0, '*', '9']\n",
      "['+', 27.0, '*', '9', '8']\n",
      "72.0\n",
      "['+', 27.0, 72.0]\n",
      "99.0\n",
      "[99.0]\n"
     ]
    },
    {
     "data": {
      "text/plain": [
       "99.0"
      ]
     },
     "execution_count": 167,
     "metadata": {},
     "output_type": "execute_result"
    }
   ],
   "source": [
    "calculate(root,verbose = True)"
   ]
  },
  {
   "cell_type": "code",
   "execution_count": null,
   "metadata": {
    "collapsed": true
   },
   "outputs": [],
   "source": []
  }
 ],
 "metadata": {
  "kernelspec": {
   "display_name": "Python 3",
   "language": "python",
   "name": "python3"
  },
  "language_info": {
   "codemirror_mode": {
    "name": "ipython",
    "version": 3
   },
   "file_extension": ".py",
   "mimetype": "text/x-python",
   "name": "python",
   "nbconvert_exporter": "python",
   "pygments_lexer": "ipython3",
   "version": "3.5.3"
  }
 },
 "nbformat": 4,
 "nbformat_minor": 2
}
