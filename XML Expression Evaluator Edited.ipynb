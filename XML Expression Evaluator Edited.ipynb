{
 "cells": [
  {
   "cell_type": "markdown",
   "metadata": {},
   "source": [
    "# Data Structures Project (XML Expression Evaluator)\n",
    "# Ahmed Elmahy, Nourhan Saeed \n",
    "## Problem\n",
    "The   program should be able to evaluates any expression with integer numbers and basic operators. The expressions are stored in XML format (see below) so the program should load the file and parse into suitable data structure first. Arithmetic Expressions The program should support arithmetic expressions with integer operands,  binary operators +, –, *, and /. The precedence rules are the standard ones from   arithmetic   (i.e.,   parenthesized   expressions   are   evaluated   first,   then multiplicative operators, and finally additive operators).\n"
   ]
  },
  {
   "cell_type": "markdown",
   "metadata": {},
   "source": [
    "# Objectives\n",
    "\n",
    "1. Familiarity in using XML to represent arithmetic expressions,\n",
    "2. Practicing recursion to evaluate arithmetic expressions, and\n",
    "3. Implementing expressions evaluator."
   ]
  },
  {
   "cell_type": "markdown",
   "metadata": {},
   "source": [
    "## Solution"
   ]
  },
  {
   "cell_type": "markdown",
   "metadata": {},
   "source": [
    "We first read xml using xml library in Python, we can either read an xml file using tree = ET.parse('file.xml')\n",
    " or read xml text. Here we read xml from text"
   ]
  },
  {
   "cell_type": "markdown",
   "metadata": {},
   "source": [
    "#### XML structure\n",
    "xml is a heirarchical data structure each tag has attributes and maybe children. HTML is an example of xml."
   ]
  },
  {
   "cell_type": "code",
   "execution_count": 169,
   "metadata": {
    "collapsed": false
   },
   "outputs": [],
   "source": [
    "# Read xml\n",
    "\n",
    "import xml.etree.ElementTree as ET  \n",
    "xmlData = \"\"\"<?xml version=\"1.0\" encoding=\"UTF-8\"?>\n",
    "<expr type=\"binary\">\n",
    "    <operator value=\"+\"/>\n",
    "<expr type=\"binary\">\n",
    "<operator value=\"*\"/>\n",
    "<expr type=\"atom\">\n",
    "<atom value=\"3\"/>\n",
    "</expr>\n",
    "<expr type=\"binary\"><operator value=\"+\"/>\n",
    "<expr type=\"atom\"><atom value=\"5\"/>\n",
    "</expr>\n",
    "<expr type=\"atom\">\n",
    "<atom value=\"4\"/>\n",
    "</expr>\n",
    "</expr>\n",
    "</expr>\n",
    "<expr type=\"binary\">\n",
    "<operator value=\"*\"/>\n",
    "<expr type=\"atom\">\n",
    "<atom value=\"9\"/>\n",
    "</expr>\n",
    "<expr type=\"atom\">\n",
    "<atom value=\"8\"/>\n",
    "</expr>\n",
    "</expr>\n",
    "</expr>\"\"\"\n",
    "\n",
    "# read xml from string\n",
    "root = ET.fromstring(xmlData)\n"
   ]
  },
  {
   "cell_type": "markdown",
   "metadata": {
    "collapsed": false
   },
   "source": [
    "Each operation contains operator like + and two operands \n",
    "In the implementation below we loop again to account for the situation when there are more than two operands for example + 2 3 4  will change to + 2 7  then to 9"
   ]
  },
  {
   "cell_type": "code",
   "execution_count": 170,
   "metadata": {
    "collapsed": true
   },
   "outputs": [],
   "source": [
    "def doMath(op, op1, op2):\n",
    "    if op == \"*\":\n",
    "        return op1 * op2\n",
    "    elif op == \"/\":\n",
    "        return op1 / op2\n",
    "    elif op == \"+\":\n",
    "        return op1 + op2\n",
    "    else:\n",
    "        return op1 - op2"
   ]
  },
  {
   "cell_type": "markdown",
   "metadata": {},
   "source": [
    "### Calculate Function\n",
    "calculate is a recursive function that takes an xml element, examines it with three situations:\n",
    "1. if element is an operator > it pushes it to the stack\n",
    "2. if element is an ator > it pushes it to stack and check it some operation on the final three items in the stack could be finished. this only happens if the stack ends with [... , operator, number, number] \n",
    "3. if element is an expression the function calls itself again"
   ]
  },
  {
   "cell_type": "markdown",
   "metadata": {},
   "source": [
    "Specifying verbose = True will print the items in stack while running"
   ]
  },
  {
   "cell_type": "code",
   "execution_count": 171,
   "metadata": {
    "collapsed": false
   },
   "outputs": [],
   "source": [
    "# instantiate empty stack as a list\n",
    "s = list()\n",
    "s = []\n",
    "def calculate(parent, verbose = False) :\n",
    "    l.append('(')\n",
    "    for child in parent:\n",
    "        # if child is operator > append it to stack\n",
    "        if child.tag == 'operator':\n",
    "            #print(s)\n",
    "            s.append(child.attrib['value'])\n",
    "            \n",
    "            \n",
    "        # if child is atom > append it to stack\n",
    "        if child.tag == 'atom':\n",
    "            #print(s)\n",
    "            s.append(child.attrib['value'])\n",
    "            \n",
    "            \n",
    "                    \n",
    "            while(True):\n",
    "                if (len(s) > 2 and (type(s[-1]) == float or s[-1] in '1234567890') and\n",
    "                (type(s[-2]) == float or s[-2] in '1234567890') and s[-3] in '+-*/'):\n",
    "                    \n",
    "                    # transform string into float\n",
    "                    \n",
    "                    \n",
    "                    op1 = float(s[-1])\n",
    "                    op2 = float(s[-2])\n",
    "                    op = s[-3]\n",
    "                    \n",
    "                    \n",
    "                    \n",
    "                    m.append(op1)\n",
    "                    m.append(op)\n",
    "                    m.append(op2)\n",
    "                \n",
    "                    if verbose == True: \n",
    "                        print(s)\n",
    "                     \n",
    "                    # pop last three items\n",
    "                    s.pop()\n",
    "                    s.pop()\n",
    "                    s.pop()\n",
    "                    \n",
    "                    if verbose == True:\n",
    "                        print(doMath(op,op1,op2))\n",
    "                    # append the value of the operation run on the last three values\n",
    "                    s.append(doMath(op,op1,op2))\n",
    "                else:\n",
    "                    break;\n",
    "            if verbose == True: print(s)\n",
    "        \n",
    "        # recurse if child is an expression\n",
    "        elif child.tag == 'expr':\n",
    "            calculate(child, verbose)\n",
    "        l.append(')')    \n",
    "        # Examine if one number is left and return it as the solution for the expression\n",
    "        if (len(s) > 0 and str(s[0]) not in '+-*/'):\n",
    "            return s[0]\n",
    "        \n",
    "    "
   ]
  },
  {
   "cell_type": "markdown",
   "metadata": {},
   "source": [
    "# Run here"
   ]
  },
  {
   "cell_type": "code",
   "execution_count": 172,
   "metadata": {
    "collapsed": false
   },
   "outputs": [
    {
     "name": "stdout",
     "output_type": "stream",
     "text": [
      "['+', '*', '3']\n",
      "['+', '*', '3', '+', '5']\n",
      "['+', '*', '3', '+', '5', '4']\n",
      "9.0\n",
      "['+', '*', '3', 9.0]\n",
      "27.0\n",
      "['+', 27.0]\n",
      "['+', 27.0, '*', '9']\n",
      "['+', 27.0, '*', '9', '8']\n",
      "72.0\n",
      "['+', 27.0, 72.0]\n",
      "99.0\n",
      "[99.0]\n"
     ]
    },
    {
     "data": {
      "text/plain": [
       "99.0"
      ]
     },
     "execution_count": 172,
     "metadata": {},
     "output_type": "execute_result"
    }
   ],
   "source": [
    "calculate(root, verbose = True)"
   ]
  },
  {
   "cell_type": "markdown",
   "metadata": {},
   "source": [
    "# Converting prefix to infix\n",
    "We reread the xml file but this time to extract the prefix expression\n",
    "\n",
    "Returns l which is a list of the prefix expression\n"
   ]
  },
  {
   "cell_type": "code",
   "execution_count": 173,
   "metadata": {
    "collapsed": false
   },
   "outputs": [
    {
     "name": "stdout",
     "output_type": "stream",
     "text": [
      "['+', '*', '3']\n",
      "['+', '*', '3', '+', '5']\n",
      "['+', '*', '3', '+', '5', '4']\n",
      "['+', '*', '3', '+', '5', '4']\n",
      "['+', '*', '3', '+', '5', '4']\n",
      "['+', '*', '3', '+', '5', '4', '*', '9']\n",
      "['+', '*', '3', '+', '5', '4', '*', '9', '8']\n",
      "['+', '*', '3', '+', '5', '4', '*', '9', '8']\n",
      "['+', '*', '3', '+', '5', '4', '*', '9', '8']\n"
     ]
    }
   ],
   "source": [
    "l = []\n",
    "def getPrefix(parent):\n",
    "    miniList = []\n",
    "    for item in parent:\n",
    "        if item.tag == 'operator':\n",
    "            l.append(item.attrib['value'])\n",
    "            #l.append('(')\n",
    "        if item.tag == 'atom':\n",
    "            #l.append('(')\n",
    "            l.append(item.attrib['value'])\n",
    "        if item.tag == 'expr':            \n",
    "            getPrefix(item)\n",
    "            #l.append(')')\n",
    "            \n",
    "        \n",
    "            \n",
    "    print(l)\n",
    "            \n",
    "getPrefix(root)"
   ]
  },
  {
   "cell_type": "markdown",
   "metadata": {},
   "source": [
    "## Step 2\n",
    "We reverse the list "
   ]
  },
  {
   "cell_type": "code",
   "execution_count": 174,
   "metadata": {
    "collapsed": false
   },
   "outputs": [
    {
     "data": {
      "text/plain": [
       "['8', '9', '*', '4', '5', '+', '3', '*', '+']"
      ]
     },
     "execution_count": 174,
     "metadata": {},
     "output_type": "execute_result"
    }
   ],
   "source": [
    "l.reverse()\n",
    "l"
   ]
  },
  {
   "cell_type": "markdown",
   "metadata": {},
   "source": [
    "## Step 3\n",
    "We create a new stack newL following the algorithm in the video link on Piazza "
   ]
  },
  {
   "cell_type": "code",
   "execution_count": 175,
   "metadata": {
    "collapsed": false
   },
   "outputs": [
    {
     "name": "stdout",
     "output_type": "stream",
     "text": [
      "['8']\n",
      "['8', '9']\n",
      "['8', '9', '*']\n",
      "['8', '9', '*']\n",
      "['8', '9']\n",
      "['8']\n",
      "[]\n",
      "['(8*9)']\n",
      "['(8*9)', '4']\n",
      "['(8*9)', '4', '5']\n",
      "['(8*9)', '4', '5', '+']\n",
      "['(8*9)', '4', '5', '+']\n",
      "['(8*9)', '4', '5']\n",
      "['(8*9)', '4']\n",
      "['(8*9)']\n",
      "['(8*9)', '(4+5)']\n",
      "['(8*9)', '(4+5)', '3']\n",
      "['(8*9)', '(4+5)', '3', '*']\n",
      "['(8*9)', '(4+5)', '3', '*']\n",
      "['(8*9)', '(4+5)', '3']\n",
      "['(8*9)', '(4+5)']\n",
      "['(8*9)']\n",
      "['(8*9)', '((4+5)*3)']\n",
      "['(8*9)', '((4+5)*3)', '+']\n",
      "['(8*9)', '((4+5)*3)', '+']\n",
      "['(8*9)', '((4+5)*3)']\n",
      "['(8*9)']\n",
      "[]\n",
      "['((8*9)+((4+5)*3))']\n"
     ]
    }
   ],
   "source": [
    "newL = []\n",
    "for i in range(len(l)):\n",
    "    # append new number or operator\n",
    "    newL.append(l[i])\n",
    "    print(newL)\n",
    "    # rotate in the new item is an operator and concatenate the expression in one item and pops them and push\n",
    "    # the expression instead\n",
    "    if l[i] in '*/+-':\n",
    "        j = len(newL)-1\n",
    "        op1 = newL[j - 2]\n",
    "        op2 = newL[j - 1]\n",
    "        op = newL[j]\n",
    "        print(newL)\n",
    "        newL.pop()\n",
    "        print(newL)\n",
    "        newL.pop()\n",
    "        print(newL)\n",
    "        newL.pop()\n",
    "        print(newL)\n",
    "        newL.append('('+op1+op+op2+')')\n",
    "        print(newL)"
   ]
  },
  {
   "cell_type": "markdown",
   "metadata": {},
   "source": [
    "## Final expression \n",
    "It is the same as in the example but reversed we can parse it to get the same expression, but since it evaluates to the same result there is not need for that. To get the same expression (3 * (5 + 4) + 9 * 8) check the proposed solution below."
   ]
  },
  {
   "cell_type": "code",
   "execution_count": 176,
   "metadata": {
    "collapsed": false
   },
   "outputs": [
    {
     "data": {
      "text/plain": [
       "'((8*9)+((4+5)*3))'"
      ]
     },
     "execution_count": 176,
     "metadata": {},
     "output_type": "execute_result"
    }
   ],
   "source": [
    "expression = newL[0]\n",
    "expression"
   ]
  },
  {
   "cell_type": "markdown",
   "metadata": {},
   "source": [
    "In python we can use eval() to evaluate an expression of a string type"
   ]
  },
  {
   "cell_type": "code",
   "execution_count": 177,
   "metadata": {
    "collapsed": false
   },
   "outputs": [
    {
     "data": {
      "text/plain": [
       "99"
      ]
     },
     "execution_count": 177,
     "metadata": {},
     "output_type": "execute_result"
    }
   ],
   "source": [
    "eval(expression)"
   ]
  },
  {
   "cell_type": "markdown",
   "metadata": {},
   "source": [
    "# Proposed solution to get the same expression\n",
    "We reverse the operations done on the stack and push/ pop items to the start of the list instead of to the end "
   ]
  },
  {
   "cell_type": "code",
   "execution_count": 178,
   "metadata": {
    "collapsed": false
   },
   "outputs": [
    {
     "name": "stdout",
     "output_type": "stream",
     "text": [
      "['8']\n",
      "['9', '8']\n",
      "['*', '9', '8']\n",
      "['*', '9', '8']\n",
      "['9', '8']\n",
      "['8']\n",
      "[]\n",
      "['(9*8)']\n",
      "['4', '(9*8)']\n",
      "['5', '4', '(9*8)']\n",
      "['+', '5', '4', '(9*8)']\n",
      "['+', '5', '4', '(9*8)']\n",
      "['5', '4', '(9*8)']\n",
      "['4', '(9*8)']\n",
      "['(9*8)']\n",
      "['(5+4)', '(9*8)']\n",
      "['3', '(5+4)', '(9*8)']\n",
      "['*', '3', '(5+4)', '(9*8)']\n",
      "['*', '3', '(5+4)', '(9*8)']\n",
      "['3', '(5+4)', '(9*8)']\n",
      "['(5+4)', '(9*8)']\n",
      "['(9*8)']\n",
      "['(3*(5+4))', '(9*8)']\n",
      "['+', '(3*(5+4))', '(9*8)']\n",
      "['+', '(3*(5+4))', '(9*8)']\n",
      "['(3*(5+4))', '(9*8)']\n",
      "['(9*8)']\n",
      "[]\n",
      "['((3*(5+4))+(9*8))']\n",
      "Expression is\n",
      "((3*(5+4))+(9*8))\n",
      "Evaluates to\n",
      "99\n"
     ]
    }
   ],
   "source": [
    "newL = []\n",
    "for i in range(len(l)):\n",
    "    # append new number or operator\n",
    "    newL = [l[i]] + newL\n",
    "    print(newL)\n",
    "    # rotate in the new item is an operator and concatenate the expression in one item and pops them and push\n",
    "    # the expression instead\n",
    "    if l[i] in '*/+-':\n",
    "        op2 = newL[2]\n",
    "        op1 = newL[1]\n",
    "        op = newL[0]\n",
    "        print(newL)\n",
    "        newL.pop(0)\n",
    "        print(newL)\n",
    "        newL.pop(0)\n",
    "        print(newL)\n",
    "        newL.pop(0)\n",
    "        print(newL)\n",
    "        newL = ['('+op1+op+op2+')']+ newL\n",
    "        print(newL)\n",
    "        \n",
    "print(\"Expression is\")\n",
    "print(newL[0])\n",
    "print(\"Evaluates to\")\n",
    "print(eval(newL[0]))"
   ]
  }
 ],
 "metadata": {
  "kernelspec": {
   "display_name": "Python 3",
   "language": "python",
   "name": "python3"
  },
  "language_info": {
   "codemirror_mode": {
    "name": "ipython",
    "version": 3
   },
   "file_extension": ".py",
   "mimetype": "text/x-python",
   "name": "python",
   "nbconvert_exporter": "python",
   "pygments_lexer": "ipython3",
   "version": "3.5.3"
  }
 },
 "nbformat": 4,
 "nbformat_minor": 2
}
